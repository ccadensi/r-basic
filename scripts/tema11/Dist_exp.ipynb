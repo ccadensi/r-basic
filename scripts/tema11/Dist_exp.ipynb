{
 "cells": [
  {
   "cell_type": "code",
   "execution_count": 1,
   "metadata": {},
   "outputs": [],
   "source": [
    "from scipy.stats import expon\n",
    "import numpy as np\n",
    "import matplotlib.pyplot as plt"
   ]
  },
  {
   "cell_type": "code",
   "execution_count": 2,
   "metadata": {},
   "outputs": [],
   "source": [
    "lam = 3\n",
    "rv = expon(scale = 1/lam)"
   ]
  },
  {
   "cell_type": "code",
   "execution_count": 3,
   "metadata": {},
   "outputs": [
    {
     "name": "stdout",
     "output_type": "stream",
     "text": [
      "Media 0.333333\n",
      "Varianza 0.111111\n",
      "Sesgo 2.000000\n",
      "Curtosis 6.000000\n"
     ]
    }
   ],
   "source": [
    "mean, var, skew, kurt = rv.stats(moments = 'mvsk')\n",
    "print(\"Media %f\"%mean)\n",
    "print(\"Varianza %f\"%var)\n",
    "print(\"Sesgo %f\"%skew)\n",
    "print(\"Curtosis %f\"%kurt)"
   ]
  },
  {
   "cell_type": "code",
   "execution_count": 7,
   "metadata": {},
   "outputs": [
    {
     "data": {
      "image/png": "[encoded data removed]",
      "text/plain": [
       "<Figure size 432x288 with 1 Axes>"
      ]
     },
     "metadata": {
      "needs_background": "light"
     },
     "output_type": "display_data"
    }
   ],
   "source": [
    "fig, ax = plt.subplots(1,1)\n",
    "x = np.linspace(0, 3, 1000)\n",
    "ax.plot(x, rv.pdf(x), 'r-', lw = 5, alpha = 0.6, label = \"Exp(10)\")\n",
    "r = rv.rvs(size = 100000)\n",
    "ax.hist(r, density = True, histtype = 'stepfilled', alpha = 0.2)\n",
    "ax.legend(loc = \"best\", frameon= False)\n",
    "plt.show()"
   ]
  }
 ],
 "metadata": {
  "kernelspec": {
   "display_name": "Python 3",
   "language": "python",
   "name": "python3"
  },
  "language_info": {
   "codemirror_mode": {
    "name": "ipython",
    "version": 3
   },
   "file_extension": ".py",
   "mimetype": "text/x-python",
   "name": "python",
   "nbconvert_exporter": "python",
   "pygments_lexer": "ipython3",
   "version": "3.7.6"
  }
 },
 "nbformat": 4,
 "nbformat_minor": 4
}
