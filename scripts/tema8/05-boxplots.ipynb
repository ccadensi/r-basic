{
 "cells": [
  {
   "cell_type": "markdown",
   "metadata": {},
   "source": [
    "# Diagrama de Caja y Bigotes"
   ]
  },
  {
   "cell_type": "code",
   "execution_count": 1,
   "metadata": {},
   "outputs": [],
   "source": [
    "import numpy as np\n",
    "import matplotlib.pyplot as plt"
   ]
  },
  {
   "cell_type": "code",
   "execution_count": 2,
   "metadata": {},
   "outputs": [],
   "source": [
    "# para establecer una semilla\n",
    "np.random.seed(19880519)"
   ]
  },
  {
   "cell_type": "code",
   "execution_count": 3,
   "metadata": {},
   "outputs": [],
   "source": [
    "dist1 = 100*np.random.rand(50)\n",
    "dist2 = 50*np.ones(25) # crea 25 numeros cerca al centro que es 50\n",
    "dist3 = 100+100*np.random.rand(10)\n",
    "dist4 = -100*np.random.rand(10)\n",
    "data = np.concatenate((dist1, dist2, dist3, dist4))"
   ]
  },
  {
   "cell_type": "code",
   "execution_count": 4,
   "metadata": {},
   "outputs": [
    {
     "data": {
      "text/plain": [
       "{'whiskers': [<matplotlib.lines.Line2D at 0x1c489dada88>,\n",
       "  <matplotlib.lines.Line2D at 0x1c48a05fc88>],\n",
       " 'caps': [<matplotlib.lines.Line2D at 0x1c48a05fd88>,\n",
       "  <matplotlib.lines.Line2D at 0x1c48a05fe48>],\n",
       " 'boxes': [<matplotlib.lines.Line2D at 0x1c48a05a448>],\n",
       " 'medians': [<matplotlib.lines.Line2D at 0x1c48a06ca08>],\n",
       " 'fliers': [<matplotlib.lines.Line2D at 0x1c48a073a08>],\n",
       " 'means': []}"
      ]
     },
     "execution_count": 4,
     "metadata": {},
     "output_type": "execute_result"
    },
    {
     "data": {
      "image/png": "[encoded data removed]",
      "text/plain": [
       "<Figure size 432x288 with 1 Axes>"
      ]
     },
     "metadata": {
      "needs_background": "light"
     },
     "output_type": "display_data"
    }
   ],
   "source": [
    "fig1, ax1 = plt.subplots()\n",
    "ax1.set_title(\"Boxplot básico\")\n",
    "ax1.boxplot(data)"
   ]
  },
  {
   "cell_type": "code",
   "execution_count": 5,
   "metadata": {},
   "outputs": [
    {
     "data": {
      "text/plain": [
       "{'whiskers': [<matplotlib.lines.Line2D at 0x1c48a117a48>,\n",
       "  <matplotlib.lines.Line2D at 0x1c48a117b48>],\n",
       " 'caps': [<matplotlib.lines.Line2D at 0x1c48a11ba08>,\n",
       "  <matplotlib.lines.Line2D at 0x1c48a11bb08>],\n",
       " 'boxes': [<matplotlib.lines.Line2D at 0x1c48a112f08>],\n",
       " 'medians': [<matplotlib.lines.Line2D at 0x1c48a120988>],\n",
       " 'fliers': [<matplotlib.lines.Line2D at 0x1c48a120fc8>],\n",
       " 'means': []}"
      ]
     },
     "execution_count": 5,
     "metadata": {},
     "output_type": "execute_result"
    },
    {
     "data": {
      "image/png": "[encoded data removed]",
      "text/plain": [
       "<Figure size 432x288 with 1 Axes>"
      ]
     },
     "metadata": {
      "needs_background": "light"
     },
     "output_type": "display_data"
    }
   ],
   "source": [
    "fig2, ax2 = plt.subplots()\n",
    "ax2.set_title(\"Boxplot con muescas\")\n",
    "ax2.boxplot(data, notch = True)"
   ]
  },
  {
   "cell_type": "code",
   "execution_count": 6,
   "metadata": {},
   "outputs": [
    {
     "data": {
      "text/plain": [
       "{'whiskers': [<matplotlib.lines.Line2D at 0x1c48a154a48>,\n",
       "  <matplotlib.lines.Line2D at 0x1c48a154b48>],\n",
       " 'caps': [<matplotlib.lines.Line2D at 0x1c48a18ea08>,\n",
       "  <matplotlib.lines.Line2D at 0x1c48a18eb08>],\n",
       " 'boxes': [<matplotlib.lines.Line2D at 0x1c48a186d08>],\n",
       " 'medians': [<matplotlib.lines.Line2D at 0x1c48a13db48>],\n",
       " 'fliers': [<matplotlib.lines.Line2D at 0x1c48a192f08>],\n",
       " 'means': []}"
      ]
     },
     "execution_count": 6,
     "metadata": {},
     "output_type": "execute_result"
    },
    {
     "data": {
      "image/png": "[encoded data removed]",
      "text/plain": [
       "<Figure size 432x288 with 1 Axes>"
      ]
     },
     "metadata": {
      "needs_background": "light"
     },
     "output_type": "display_data"
    }
   ],
   "source": [
    "green_diamond = dict(markerfacecolor=\"g\", marker=\"D\")\n",
    "fig3, ax3 = plt.subplots()\n",
    "ax3.set_title(\"Boxplot con outliers personalizados\")\n",
    "ax3.boxplot(data, flierprops=green_diamond)"
   ]
  },
  {
   "cell_type": "code",
   "execution_count": 7,
   "metadata": {},
   "outputs": [
    {
     "data": {
      "text/plain": [
       "{'boxes': [<matplotlib.lines.Line2D at 0x11e0d6da0>],\n",
       " 'caps': [<matplotlib.lines.Line2D at 0x11e0db7f0>,\n",
       "  <matplotlib.lines.Line2D at 0x11e0dbc18>],\n",
       " 'fliers': [],\n",
       " 'means': [],\n",
       " 'medians': [<matplotlib.lines.Line2D at 0x11e0e0080>],\n",
       " 'whiskers': [<matplotlib.lines.Line2D at 0x11e0d6ef0>,\n",
       "  <matplotlib.lines.Line2D at 0x11e0db3c8>]}"
      ]
     },
     "execution_count": 7,
     "metadata": {},
     "output_type": "execute_result"
    },
    {
     "data": {
      "image/png": "[encoded data removed]",
      "text/plain": [
       "<Figure size 432x288 with 1 Axes>"
      ]
     },
     "metadata": {
      "needs_background": "light"
     },
     "output_type": "display_data"
    }
   ],
   "source": [
    "fig4, ax4 = plt.subplots()\n",
    "ax4.set_title(\"Boxplot sin outliers\")\n",
    "ax4.boxplot(data, showfliers=False)"
   ]
  },
  {
   "cell_type": "code",
   "execution_count": 7,
   "metadata": {},
   "outputs": [
    {
     "data": {
      "text/plain": [
       "{'whiskers': [<matplotlib.lines.Line2D at 0x1c48a1f9f08>,\n",
       "  <matplotlib.lines.Line2D at 0x1c48a1fc9c8>],\n",
       " 'caps': [<matplotlib.lines.Line2D at 0x1c48a1fcac8>,\n",
       "  <matplotlib.lines.Line2D at 0x1c48a201948>],\n",
       " 'boxes': [<matplotlib.lines.Line2D at 0x1c48a1f9708>],\n",
       " 'medians': [<matplotlib.lines.Line2D at 0x1c48a201a48>],\n",
       " 'fliers': [<matplotlib.lines.Line2D at 0x1c48a207a48>],\n",
       " 'means': []}"
      ]
     },
     "execution_count": 7,
     "metadata": {},
     "output_type": "execute_result"
    },
    {
     "data": {
      "image/png": "[encoded data removed]",
      "text/plain": [
       "<Figure size 432x288 with 1 Axes>"
      ]
     },
     "metadata": {
      "needs_background": "light"
     },
     "output_type": "display_data"
    }
   ],
   "source": [
    "red_square = dict(markerfacecolor=\"r\", marker=\"s\")\n",
    "fig5, ax5 = plt.subplots()\n",
    "ax5.set_title(\"Boxplot personalizado y en horizontal\")\n",
    "ax5.boxplot(data, vert=False, flierprops=red_square, whis=0.75)"
   ]
  },
  {
   "cell_type": "code",
   "execution_count": 8,
   "metadata": {},
   "outputs": [],
   "source": [
    "dist1 = 100*np.random.rand(50)\n",
    "dist2 = 40*np.ones(25)\n",
    "dist3 = 100+100*np.random.rand(10)\n",
    "dist4 = -100*np.random.rand(10)\n",
    "data2 = np.concatenate((dist1, dist2, dist3, dist4))"
   ]
  },
  {
   "cell_type": "code",
   "execution_count": 9,
   "metadata": {},
   "outputs": [],
   "source": [
    "data.shape = (-1,1)\n",
    "data2.shape = (-1,1)"
   ]
  },
  {
   "cell_type": "code",
   "execution_count": 10,
   "metadata": {},
   "outputs": [],
   "source": [
    "fulldata = [data, data2, data2[::2,0]]"
   ]
  },
  {
   "cell_type": "code",
   "execution_count": 11,
   "metadata": {},
   "outputs": [
    {
     "data": {
      "image/png": "[encoded data removed]",
      "text/plain": [
       "<Figure size 432x288 with 1 Axes>"
      ]
     },
     "metadata": {
      "needs_background": "light"
     },
     "output_type": "display_data"
    }
   ],
   "source": [
    "fig7, ax7 = plt.subplots()\n",
    "ax7.set_title(\"Múltiples muestras de diferente naturaleza\")\n",
    "ax7.boxplot(fulldata)\n",
    "plt.show()"
   ]
  },
  {
   "cell_type": "code",
   "execution_count": null,
   "metadata": {},
   "outputs": [],
   "source": []
  }
 ],
 "metadata": {
  "kernelspec": {
   "display_name": "Python 3",
   "language": "python",
   "name": "python3"
  },
  "language_info": {
   "codemirror_mode": {
    "name": "ipython",
    "version": 3
   },
   "file_extension": ".py",
   "mimetype": "text/x-python",
   "name": "python",
   "nbconvert_exporter": "python",
   "pygments_lexer": "ipython3",
   "version": "3.7.6"
  }
 },
 "nbformat": 4,
 "nbformat_minor": 2
}
