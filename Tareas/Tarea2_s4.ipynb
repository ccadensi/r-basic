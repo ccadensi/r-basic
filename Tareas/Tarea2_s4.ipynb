{
 "cells": [
  {
   "cell_type": "markdown",
   "metadata": {},
   "source": [
    "1. Escribe una secuencia de instrucciones que permitan leer un número real por pantalla y que muestre si el número es positivo o no."
   ]
  },
  {
   "cell_type": "code",
   "execution_count": 1,
   "metadata": {},
   "outputs": [
    {
     "name": "stdout",
     "output_type": "stream",
     "text": [
      "Digite un número: 5.3\n",
      "El número 5.3 es positivo\n"
     ]
    }
   ],
   "source": [
    "a = float(input(\"Digite un número: \"))\n",
    "if a>=0:\n",
    "    print(f\"El número {a} es positivo\")\n",
    "else:     \n",
    "    print(f\"El número {a} es negativo\")"
   ]
  },
  {
   "cell_type": "markdown",
   "metadata": {},
   "source": [
    "2. Escribe una secuencia de instrucciones que permitan leer un número real por pantalla y que muestre si el número está en el rango entre -5 y 5"
   ]
  },
  {
   "cell_type": "code",
   "execution_count": 2,
   "metadata": {},
   "outputs": [
    {
     "name": "stdout",
     "output_type": "stream",
     "text": [
      "Digite un número: 3\n",
      "El número 3.0 está en el rango entre -5 y 5\n"
     ]
    }
   ],
   "source": [
    "a = float(input(\"Digite un número: \"))\n",
    "if a>=-5 and a<=5:\n",
    "    print(f\"El número {a} está en el rango entre -5 y 5\")\n",
    "else:     \n",
    "    print(f\"El número {a} NO está en el rango entre -5 y 5\")"
   ]
  },
  {
   "cell_type": "markdown",
   "metadata": {},
   "source": [
    "3. Escribe una secuencia de instrucciones que permitan leer las coordenadas de un punto (x, y) e indique en cuál de los cuatro cuadrantes se encuentra dicho punto."
   ]
  },
  {
   "cell_type": "code",
   "execution_count": 3,
   "metadata": {},
   "outputs": [],
   "source": [
    "def cuadrante(x,y):\n",
    "    if x>=0 and y>=0:\n",
    "        print(f\"Las coordenadas {x} y {y} estan en el cuadrante 1\")\n",
    "    elif x<0 and y>=0:     \n",
    "        print(f\"Las coordenadas {x} y {y} estan en el cuadrante 2\")\n",
    "    else:    \n",
    "        if x<0 and y<0:     \n",
    "            print(f\"Las coordenadas {x} y {y} estan en el cuadrante 3\")\n",
    "        elif x>=0 and y<0:     \n",
    "            print(f\"Las coordenadas {x} y {y} estan en el cuadrante 4\")"
   ]
  },
  {
   "cell_type": "code",
   "execution_count": 4,
   "metadata": {},
   "outputs": [
    {
     "name": "stdout",
     "output_type": "stream",
     "text": [
      "Las coordenadas 5 y 3 estan en el cuadrante 1\n"
     ]
    }
   ],
   "source": [
    "cuadrante(5,3)"
   ]
  },
  {
   "cell_type": "code",
   "execution_count": 5,
   "metadata": {},
   "outputs": [
    {
     "name": "stdout",
     "output_type": "stream",
     "text": [
      "Las coordenadas -5 y 3 estan en el cuadrante 2\n"
     ]
    }
   ],
   "source": [
    "cuadrante(-5,3)"
   ]
  },
  {
   "cell_type": "code",
   "execution_count": 6,
   "metadata": {},
   "outputs": [
    {
     "name": "stdout",
     "output_type": "stream",
     "text": [
      "Las coordenadas -5 y -3 estan en el cuadrante 3\n"
     ]
    }
   ],
   "source": [
    "cuadrante(-5,-3)"
   ]
  },
  {
   "cell_type": "code",
   "execution_count": 7,
   "metadata": {},
   "outputs": [
    {
     "name": "stdout",
     "output_type": "stream",
     "text": [
      "Las coordenadas 5 y -3 estan en el cuadrante 4\n"
     ]
    }
   ],
   "source": [
    "cuadrante(5,-3)"
   ]
  },
  {
   "cell_type": "markdown",
   "metadata": {},
   "source": [
    "4. Escribe una secuencia de instrucciones que permitan leer dos números enteros y muestre el cociente de la división entera y el resto."
   ]
  },
  {
   "cell_type": "code",
   "execution_count": 31,
   "metadata": {},
   "outputs": [],
   "source": [
    "def division(x,y):\n",
    "    ent = x//y\n",
    "    res = x%y\n",
    "    print(f\"La división de los números {x},{y}, parte entera es: {ent} y el residuo es {res}\")"
   ]
  },
  {
   "cell_type": "code",
   "execution_count": 34,
   "metadata": {},
   "outputs": [
    {
     "name": "stdout",
     "output_type": "stream",
     "text": [
      "La división de los números 5,3, parte entera es: 1 y el residuo es 2\n"
     ]
    }
   ],
   "source": [
    "division(5,3)"
   ]
  },
  {
   "cell_type": "markdown",
   "metadata": {},
   "source": [
    "5. Escribe una secuencia de instrucciones que permitan leer un número entero es cuadrado perfecto o no (piensa la mejor forma de hacerlo con lo que has aprendido hasta ahora)"
   ]
  },
  {
   "cell_type": "code",
   "execution_count": 24,
   "metadata": {},
   "outputs": [],
   "source": [
    "import math\n",
    "def cuadrado(x):\n",
    "    a,b = math.modf(math.sqrt(x))\n",
    "    if a==0.0:\n",
    "        print(f\"{x} es cuadrado perfecto\")\n",
    "    else:\n",
    "        print(f\"{x} NO es cuadrado perfecto\")"
   ]
  },
  {
   "cell_type": "code",
   "execution_count": 19,
   "metadata": {},
   "outputs": [
    {
     "data": {
      "text/plain": [
       "0.0"
      ]
     },
     "execution_count": 19,
     "metadata": {},
     "output_type": "execute_result"
    }
   ],
   "source": [
    "a,b=math.modf( math.sqrt(4))\n",
    "a"
   ]
  },
  {
   "cell_type": "code",
   "execution_count": 25,
   "metadata": {},
   "outputs": [
    {
     "name": "stdout",
     "output_type": "stream",
     "text": [
      "16 es cuadrado perfecto\n"
     ]
    }
   ],
   "source": [
    "cuadrado(16)"
   ]
  },
  {
   "cell_type": "markdown",
   "metadata": {},
   "source": [
    "6. Escribe una expresión que permita determinar si un número entero positivo puede corresponder a un año bisiesto o no. Se consideran años bisiestos aquellos cuyo número es divisible por cuatro excepto los años que son múltiplos de 100, a no ser que lo sean de 400 (por ejemplo el año 2000 fue bisiesto pero el 2100 no lo será)."
   ]
  },
  {
   "cell_type": "code",
   "execution_count": 37,
   "metadata": {},
   "outputs": [],
   "source": [
    "import math\n",
    "def bisiesto(x):\n",
    "    a = math.fmod(x,4)\n",
    "    b = math.fmod(x,100)\n",
    "    c = math.fmod(x,400)\n",
    "    if a==0 and b==0 and c==0:\n",
    "        print(f\"{x} Si es un año bisiesto {a},{b},{c}\")\n",
    "    else:\n",
    "        print(f\"{x} No es un año bisiesto\")"
   ]
  },
  {
   "cell_type": "code",
   "execution_count": 42,
   "metadata": {},
   "outputs": [
    {
     "name": "stdout",
     "output_type": "stream",
     "text": [
      "2100 No es un año bisiesto\n"
     ]
    }
   ],
   "source": [
    "bisiesto(2100)"
   ]
  },
  {
   "cell_type": "code",
   "execution_count": 45,
   "metadata": {},
   "outputs": [
    {
     "name": "stdout",
     "output_type": "stream",
     "text": [
      "Escribe el año que desea consultar: 2100\n",
      "El año no es bisiesto\n"
     ]
    }
   ],
   "source": [
    "x=int(input(\"Escribe el año que desea consultar: \"))\n",
    "\n",
    "y=math.remainder(x,100)\n",
    "\n",
    "z=math.remainder(x,4)\n",
    "\n",
    "if z==0.0 and y>0.0:\n",
    "\n",
    "    print(\"El año es bisiesto\")\n",
    "\n",
    "elif z==0 and y==1:\n",
    "\n",
    "    print(\"El año no es bisiesto\")\n",
    "\n",
    "else:\n",
    "\n",
    "    print(\"El año no es bisiesto\")"
   ]
  },
  {
   "cell_type": "code",
   "execution_count": 53,
   "metadata": {},
   "outputs": [
    {
     "data": {
      "text/plain": [
       "100.0"
      ]
     },
     "execution_count": 53,
     "metadata": {},
     "output_type": "execute_result"
    }
   ],
   "source": [
    "math.fmod(2100,400)"
   ]
  },
  {
   "cell_type": "code",
   "execution_count": null,
   "metadata": {},
   "outputs": [],
   "source": [
    "7. Busca la imagen de un tablero de ajedrez en Google y fíjate en la nomenclatura de las casillas. Escribe una expresión lea una letra y un número de teclado correspondiente a una casilla de un tablero de ajedrez y nos indique si esta casilla es negra o blanca."
   ]
  },
  {
   "cell_type": "code",
   "execution_count": 43,
   "metadata": {},
   "outputs": [
    {
     "name": "stdout",
     "output_type": "stream",
     "text": [
      "Ingrese una letra entre la A y la H: a\n",
      "Ingrese un número entre el 1 y 8: 1\n",
      "El rango especificado es de color negro\n"
     ]
    }
   ],
   "source": [
    "f=str(input(\"Ingrese una letra entre la A y la H: \"))\n",
    "\n",
    "c=int(input(\"Ingrese un número entre el 1 y 8: \"))\n",
    "\n",
    "if c not in [1,2,3,4,5,6,7,8]:\n",
    "\n",
    "    print(\"El numero introducido no se encuentra en el rango solicitado\")\n",
    "\n",
    "if f.lower() not in ['a','b','c','d','e','f','g','h']:\n",
    "\n",
    "    print(\"La letra introducida no se encuentra en el rango solicitado\")\n",
    "\n",
    "if (f.lower() in ['a','c','e','g',]) and (c in [1,3,5,7]):\n",
    "\n",
    "    print(\"El rango especificado es de color negro\")\n",
    "\n",
    "elif (f.lower() in ['b','d','f','h',]) and (c in [2,4,6,8]):\n",
    "\n",
    "    print(\"El rango especificado es de color negro\")\n",
    "\n",
    "else:\n",
    "\n",
    "    print(\"El rango especificado es de color blanco\")"
   ]
  },
  {
   "cell_type": "code",
   "execution_count": null,
   "metadata": {},
   "outputs": [],
   "source": []
  }
 ],
 "metadata": {
  "kernelspec": {
   "display_name": "Python 3",
   "language": "python",
   "name": "python3"
  },
  "language_info": {
   "codemirror_mode": {
    "name": "ipython",
    "version": 3
   },
   "file_extension": ".py",
   "mimetype": "text/x-python",
   "name": "python",
   "nbconvert_exporter": "python",
   "pygments_lexer": "ipython3",
   "version": "3.7.6"
  }
 },
 "nbformat": 4,
 "nbformat_minor": 4
}
